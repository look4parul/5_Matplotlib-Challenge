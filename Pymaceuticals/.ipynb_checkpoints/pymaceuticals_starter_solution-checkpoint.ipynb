{
 "cells": [
  {
   "cell_type": "code",
   "execution_count": 140,
   "metadata": {},
   "outputs": [],
   "source": [
    "# Dependencies \n",
    "import pandas as pd\n",
    "import numpy as np\n",
    "import matplotlib.pyplot as plt"
   ]
  },
  {
   "cell_type": "code",
   "execution_count": 141,
   "metadata": {},
   "outputs": [],
   "source": [
    "# File path to Load the files\n",
    "mouse_drug_data_path = \"data/mouse_drug_data.csv\"\n",
    "clinical_trial_data_path = \"data/clinicaltrial_data.csv\""
   ]
  },
  {
   "cell_type": "code",
   "execution_count": 142,
   "metadata": {},
   "outputs": [
    {
     "data": {
      "text/html": [
       "<div>\n",
       "<style scoped>\n",
       "    .dataframe tbody tr th:only-of-type {\n",
       "        vertical-align: middle;\n",
       "    }\n",
       "\n",
       "    .dataframe tbody tr th {\n",
       "        vertical-align: top;\n",
       "    }\n",
       "\n",
       "    .dataframe thead th {\n",
       "        text-align: right;\n",
       "    }\n",
       "</style>\n",
       "<table border=\"1\" class=\"dataframe\">\n",
       "  <thead>\n",
       "    <tr style=\"text-align: right;\">\n",
       "      <th></th>\n",
       "      <th>Mouse ID</th>\n",
       "      <th>Drug</th>\n",
       "    </tr>\n",
       "  </thead>\n",
       "  <tbody>\n",
       "    <tr>\n",
       "      <th>0</th>\n",
       "      <td>f234</td>\n",
       "      <td>Stelasyn</td>\n",
       "    </tr>\n",
       "    <tr>\n",
       "      <th>1</th>\n",
       "      <td>x402</td>\n",
       "      <td>Stelasyn</td>\n",
       "    </tr>\n",
       "    <tr>\n",
       "      <th>2</th>\n",
       "      <td>a492</td>\n",
       "      <td>Stelasyn</td>\n",
       "    </tr>\n",
       "    <tr>\n",
       "      <th>3</th>\n",
       "      <td>w540</td>\n",
       "      <td>Stelasyn</td>\n",
       "    </tr>\n",
       "    <tr>\n",
       "      <th>4</th>\n",
       "      <td>v764</td>\n",
       "      <td>Stelasyn</td>\n",
       "    </tr>\n",
       "  </tbody>\n",
       "</table>\n",
       "</div>"
      ],
      "text/plain": [
       "  Mouse ID      Drug\n",
       "0     f234  Stelasyn\n",
       "1     x402  Stelasyn\n",
       "2     a492  Stelasyn\n",
       "3     w540  Stelasyn\n",
       "4     v764  Stelasyn"
      ]
     },
     "execution_count": 142,
     "metadata": {},
     "output_type": "execute_result"
    }
   ],
   "source": [
    "# Read the Mouse drug data file\n",
    "df_mouse_drug_data = pd.read_csv(mouse_drug_data_path)\n",
    "df_mouse_drug_data.head()"
   ]
  },
  {
   "cell_type": "code",
   "execution_count": 143,
   "metadata": {},
   "outputs": [
    {
     "data": {
      "text/html": [
       "<div>\n",
       "<style scoped>\n",
       "    .dataframe tbody tr th:only-of-type {\n",
       "        vertical-align: middle;\n",
       "    }\n",
       "\n",
       "    .dataframe tbody tr th {\n",
       "        vertical-align: top;\n",
       "    }\n",
       "\n",
       "    .dataframe thead th {\n",
       "        text-align: right;\n",
       "    }\n",
       "</style>\n",
       "<table border=\"1\" class=\"dataframe\">\n",
       "  <thead>\n",
       "    <tr style=\"text-align: right;\">\n",
       "      <th></th>\n",
       "      <th>Mouse ID</th>\n",
       "      <th>Timepoint</th>\n",
       "      <th>Tumor Volume (mm3)</th>\n",
       "      <th>Metastatic Sites</th>\n",
       "    </tr>\n",
       "  </thead>\n",
       "  <tbody>\n",
       "    <tr>\n",
       "      <th>0</th>\n",
       "      <td>b128</td>\n",
       "      <td>0</td>\n",
       "      <td>45.0</td>\n",
       "      <td>0</td>\n",
       "    </tr>\n",
       "    <tr>\n",
       "      <th>1</th>\n",
       "      <td>f932</td>\n",
       "      <td>0</td>\n",
       "      <td>45.0</td>\n",
       "      <td>0</td>\n",
       "    </tr>\n",
       "    <tr>\n",
       "      <th>2</th>\n",
       "      <td>g107</td>\n",
       "      <td>0</td>\n",
       "      <td>45.0</td>\n",
       "      <td>0</td>\n",
       "    </tr>\n",
       "    <tr>\n",
       "      <th>3</th>\n",
       "      <td>a457</td>\n",
       "      <td>0</td>\n",
       "      <td>45.0</td>\n",
       "      <td>0</td>\n",
       "    </tr>\n",
       "    <tr>\n",
       "      <th>4</th>\n",
       "      <td>c819</td>\n",
       "      <td>0</td>\n",
       "      <td>45.0</td>\n",
       "      <td>0</td>\n",
       "    </tr>\n",
       "  </tbody>\n",
       "</table>\n",
       "</div>"
      ],
      "text/plain": [
       "  Mouse ID  Timepoint  Tumor Volume (mm3)  Metastatic Sites\n",
       "0     b128          0                45.0                 0\n",
       "1     f932          0                45.0                 0\n",
       "2     g107          0                45.0                 0\n",
       "3     a457          0                45.0                 0\n",
       "4     c819          0                45.0                 0"
      ]
     },
     "execution_count": 143,
     "metadata": {},
     "output_type": "execute_result"
    }
   ],
   "source": [
    "# Read the Clinical Trial Data file\n",
    "df_clincial_trial_data = pd.read_csv(clinical_trial_data_path)\n",
    "df_clincial_trial_data.head()"
   ]
  },
  {
   "cell_type": "code",
   "execution_count": 144,
   "metadata": {},
   "outputs": [
    {
     "data": {
      "text/html": [
       "<div>\n",
       "<style scoped>\n",
       "    .dataframe tbody tr th:only-of-type {\n",
       "        vertical-align: middle;\n",
       "    }\n",
       "\n",
       "    .dataframe tbody tr th {\n",
       "        vertical-align: top;\n",
       "    }\n",
       "\n",
       "    .dataframe thead th {\n",
       "        text-align: right;\n",
       "    }\n",
       "</style>\n",
       "<table border=\"1\" class=\"dataframe\">\n",
       "  <thead>\n",
       "    <tr style=\"text-align: right;\">\n",
       "      <th></th>\n",
       "      <th>Mouse ID</th>\n",
       "      <th>Timepoint</th>\n",
       "      <th>Tumor Volume (mm3)</th>\n",
       "      <th>Metastatic Sites</th>\n",
       "      <th>Drug</th>\n",
       "    </tr>\n",
       "  </thead>\n",
       "  <tbody>\n",
       "    <tr>\n",
       "      <th>0</th>\n",
       "      <td>b128</td>\n",
       "      <td>0</td>\n",
       "      <td>45.000000</td>\n",
       "      <td>0</td>\n",
       "      <td>Capomulin</td>\n",
       "    </tr>\n",
       "    <tr>\n",
       "      <th>1</th>\n",
       "      <td>b128</td>\n",
       "      <td>5</td>\n",
       "      <td>45.651331</td>\n",
       "      <td>0</td>\n",
       "      <td>Capomulin</td>\n",
       "    </tr>\n",
       "    <tr>\n",
       "      <th>2</th>\n",
       "      <td>b128</td>\n",
       "      <td>10</td>\n",
       "      <td>43.270852</td>\n",
       "      <td>0</td>\n",
       "      <td>Capomulin</td>\n",
       "    </tr>\n",
       "    <tr>\n",
       "      <th>3</th>\n",
       "      <td>b128</td>\n",
       "      <td>15</td>\n",
       "      <td>43.784893</td>\n",
       "      <td>0</td>\n",
       "      <td>Capomulin</td>\n",
       "    </tr>\n",
       "    <tr>\n",
       "      <th>4</th>\n",
       "      <td>b128</td>\n",
       "      <td>20</td>\n",
       "      <td>42.731552</td>\n",
       "      <td>0</td>\n",
       "      <td>Capomulin</td>\n",
       "    </tr>\n",
       "  </tbody>\n",
       "</table>\n",
       "</div>"
      ],
      "text/plain": [
       "  Mouse ID  Timepoint  Tumor Volume (mm3)  Metastatic Sites       Drug\n",
       "0     b128          0           45.000000                 0  Capomulin\n",
       "1     b128          5           45.651331                 0  Capomulin\n",
       "2     b128         10           43.270852                 0  Capomulin\n",
       "3     b128         15           43.784893                 0  Capomulin\n",
       "4     b128         20           42.731552                 0  Capomulin"
      ]
     },
     "execution_count": 144,
     "metadata": {},
     "output_type": "execute_result"
    }
   ],
   "source": [
    "# Combine the data into a single dataset\n",
    "df_merged = pd.merge(df_clincial_trial_data, df_mouse_drug_data, on = (\"Mouse ID\"),how='outer')\n",
    "# Display the data table for preview\n",
    "df_merged.head()"
   ]
  },
  {
   "cell_type": "markdown",
   "metadata": {},
   "source": [
    "## Tumor Response to Treatment"
   ]
  },
  {
   "cell_type": "code",
   "execution_count": 145,
   "metadata": {},
   "outputs": [
    {
     "data": {
      "text/html": [
       "<div>\n",
       "<style scoped>\n",
       "    .dataframe tbody tr th:only-of-type {\n",
       "        vertical-align: middle;\n",
       "    }\n",
       "\n",
       "    .dataframe tbody tr th {\n",
       "        vertical-align: top;\n",
       "    }\n",
       "\n",
       "    .dataframe thead th {\n",
       "        text-align: right;\n",
       "    }\n",
       "</style>\n",
       "<table border=\"1\" class=\"dataframe\">\n",
       "  <thead>\n",
       "    <tr style=\"text-align: right;\">\n",
       "      <th></th>\n",
       "      <th></th>\n",
       "      <th>Tumor Volume (mm3)</th>\n",
       "    </tr>\n",
       "    <tr>\n",
       "      <th>Drug</th>\n",
       "      <th>Timepoint</th>\n",
       "      <th></th>\n",
       "    </tr>\n",
       "  </thead>\n",
       "  <tbody>\n",
       "    <tr>\n",
       "      <th rowspan=\"5\" valign=\"top\">Capomulin</th>\n",
       "      <th>0</th>\n",
       "      <td>45.000000</td>\n",
       "    </tr>\n",
       "    <tr>\n",
       "      <th>5</th>\n",
       "      <td>44.266086</td>\n",
       "    </tr>\n",
       "    <tr>\n",
       "      <th>10</th>\n",
       "      <td>43.084291</td>\n",
       "    </tr>\n",
       "    <tr>\n",
       "      <th>15</th>\n",
       "      <td>42.064317</td>\n",
       "    </tr>\n",
       "    <tr>\n",
       "      <th>20</th>\n",
       "      <td>40.716325</td>\n",
       "    </tr>\n",
       "  </tbody>\n",
       "</table>\n",
       "</div>"
      ],
      "text/plain": [
       "                     Tumor Volume (mm3)\n",
       "Drug      Timepoint                    \n",
       "Capomulin 0                   45.000000\n",
       "          5                   44.266086\n",
       "          10                  43.084291\n",
       "          15                  42.064317\n",
       "          20                  40.716325"
      ]
     },
     "execution_count": 145,
     "metadata": {},
     "output_type": "execute_result"
    }
   ],
   "source": [
    "# Store the Mean Tumor Volume Data Grouped by Drug and Timepoint \n",
    "tumour_response_group = df_merged.groupby([\"Drug\", \"Timepoint\"])\n",
    "\n",
    "# Convert to DataFrame\n",
    "df_tumour = tumour_response_group [\"Tumor Volume (mm3)\"].mean().to_frame()\n",
    "\n",
    "# Preview DataFrame\n",
    "df_tumour.head()"
   ]
  },
  {
   "cell_type": "code",
   "execution_count": null,
   "metadata": {
    "scrolled": true
   },
   "outputs": [],
   "source": []
  },
  {
   "cell_type": "code",
   "execution_count": 146,
   "metadata": {},
   "outputs": [
    {
     "data": {
      "text/html": [
       "<div>\n",
       "<style scoped>\n",
       "    .dataframe tbody tr th:only-of-type {\n",
       "        vertical-align: middle;\n",
       "    }\n",
       "\n",
       "    .dataframe tbody tr th {\n",
       "        vertical-align: top;\n",
       "    }\n",
       "\n",
       "    .dataframe thead th {\n",
       "        text-align: right;\n",
       "    }\n",
       "</style>\n",
       "<table border=\"1\" class=\"dataframe\">\n",
       "  <thead>\n",
       "    <tr style=\"text-align: right;\">\n",
       "      <th></th>\n",
       "      <th></th>\n",
       "      <th>Tumor Volume (mm3)</th>\n",
       "    </tr>\n",
       "    <tr>\n",
       "      <th>Drug</th>\n",
       "      <th>Timepoint</th>\n",
       "      <th></th>\n",
       "    </tr>\n",
       "  </thead>\n",
       "  <tbody>\n",
       "    <tr>\n",
       "      <th rowspan=\"5\" valign=\"top\">Capomulin</th>\n",
       "      <th>0</th>\n",
       "      <td>0.000000</td>\n",
       "    </tr>\n",
       "    <tr>\n",
       "      <th>5</th>\n",
       "      <td>0.448593</td>\n",
       "    </tr>\n",
       "    <tr>\n",
       "      <th>10</th>\n",
       "      <td>0.702684</td>\n",
       "    </tr>\n",
       "    <tr>\n",
       "      <th>15</th>\n",
       "      <td>0.838617</td>\n",
       "    </tr>\n",
       "    <tr>\n",
       "      <th>20</th>\n",
       "      <td>0.909731</td>\n",
       "    </tr>\n",
       "  </tbody>\n",
       "</table>\n",
       "</div>"
      ],
      "text/plain": [
       "                     Tumor Volume (mm3)\n",
       "Drug      Timepoint                    \n",
       "Capomulin 0                    0.000000\n",
       "          5                    0.448593\n",
       "          10                   0.702684\n",
       "          15                   0.838617\n",
       "          20                   0.909731"
      ]
     },
     "execution_count": 146,
     "metadata": {},
     "output_type": "execute_result"
    }
   ],
   "source": [
    "# Store the Standard Error of Tumor Volumes Grouped by Drug and Timepoint\n",
    "tumour_response_err = df_merged.groupby([\"Drug\", \"Timepoint\"])['Tumor Volume (mm3)'].sem()\n",
    "# Convert to DataFrame\n",
    "df_tumour_response_error = tumour_response_err.to_frame()\n",
    "# Preview DataFrame\n",
    "df_tumour_response_error.head()\n"
   ]
  },
  {
   "cell_type": "code",
   "execution_count": 147,
   "metadata": {},
   "outputs": [
    {
     "data": {
      "text/html": [
       "<div>\n",
       "<style scoped>\n",
       "    .dataframe tbody tr th:only-of-type {\n",
       "        vertical-align: middle;\n",
       "    }\n",
       "\n",
       "    .dataframe tbody tr th {\n",
       "        vertical-align: top;\n",
       "    }\n",
       "\n",
       "    .dataframe thead th {\n",
       "        text-align: right;\n",
       "    }\n",
       "</style>\n",
       "<table border=\"1\" class=\"dataframe\">\n",
       "  <thead>\n",
       "    <tr style=\"text-align: right;\">\n",
       "      <th>Drug</th>\n",
       "      <th>Capomulin</th>\n",
       "      <th>Ceftamin</th>\n",
       "      <th>Infubinol</th>\n",
       "      <th>Ketapril</th>\n",
       "      <th>Naftisol</th>\n",
       "      <th>Placebo</th>\n",
       "      <th>Propriva</th>\n",
       "      <th>Ramicane</th>\n",
       "      <th>Stelasyn</th>\n",
       "      <th>Zoniferol</th>\n",
       "    </tr>\n",
       "    <tr>\n",
       "      <th>Timepoint</th>\n",
       "      <th></th>\n",
       "      <th></th>\n",
       "      <th></th>\n",
       "      <th></th>\n",
       "      <th></th>\n",
       "      <th></th>\n",
       "      <th></th>\n",
       "      <th></th>\n",
       "      <th></th>\n",
       "      <th></th>\n",
       "    </tr>\n",
       "  </thead>\n",
       "  <tbody>\n",
       "    <tr>\n",
       "      <th>0</th>\n",
       "      <td>45.000000</td>\n",
       "      <td>45.000000</td>\n",
       "      <td>45.000000</td>\n",
       "      <td>45.000000</td>\n",
       "      <td>45.000000</td>\n",
       "      <td>45.000000</td>\n",
       "      <td>45.000000</td>\n",
       "      <td>45.000000</td>\n",
       "      <td>45.000000</td>\n",
       "      <td>45.000000</td>\n",
       "    </tr>\n",
       "    <tr>\n",
       "      <th>5</th>\n",
       "      <td>44.266086</td>\n",
       "      <td>46.503051</td>\n",
       "      <td>47.062001</td>\n",
       "      <td>47.389175</td>\n",
       "      <td>46.796098</td>\n",
       "      <td>47.125589</td>\n",
       "      <td>47.248967</td>\n",
       "      <td>43.944859</td>\n",
       "      <td>47.527452</td>\n",
       "      <td>46.851818</td>\n",
       "    </tr>\n",
       "    <tr>\n",
       "      <th>10</th>\n",
       "      <td>43.084291</td>\n",
       "      <td>48.285125</td>\n",
       "      <td>49.403909</td>\n",
       "      <td>49.582269</td>\n",
       "      <td>48.694210</td>\n",
       "      <td>49.423329</td>\n",
       "      <td>49.101541</td>\n",
       "      <td>42.531957</td>\n",
       "      <td>49.463844</td>\n",
       "      <td>48.689881</td>\n",
       "    </tr>\n",
       "    <tr>\n",
       "      <th>15</th>\n",
       "      <td>42.064317</td>\n",
       "      <td>50.094055</td>\n",
       "      <td>51.296397</td>\n",
       "      <td>52.399974</td>\n",
       "      <td>50.933018</td>\n",
       "      <td>51.359742</td>\n",
       "      <td>51.067318</td>\n",
       "      <td>41.495061</td>\n",
       "      <td>51.529409</td>\n",
       "      <td>50.779059</td>\n",
       "    </tr>\n",
       "    <tr>\n",
       "      <th>20</th>\n",
       "      <td>40.716325</td>\n",
       "      <td>52.157049</td>\n",
       "      <td>53.197691</td>\n",
       "      <td>54.920935</td>\n",
       "      <td>53.644087</td>\n",
       "      <td>54.364417</td>\n",
       "      <td>53.346737</td>\n",
       "      <td>40.238325</td>\n",
       "      <td>54.067395</td>\n",
       "      <td>53.170334</td>\n",
       "    </tr>\n",
       "  </tbody>\n",
       "</table>\n",
       "</div>"
      ],
      "text/plain": [
       "Drug       Capomulin   Ceftamin  Infubinol   Ketapril   Naftisol    Placebo  \\\n",
       "Timepoint                                                                     \n",
       "0          45.000000  45.000000  45.000000  45.000000  45.000000  45.000000   \n",
       "5          44.266086  46.503051  47.062001  47.389175  46.796098  47.125589   \n",
       "10         43.084291  48.285125  49.403909  49.582269  48.694210  49.423329   \n",
       "15         42.064317  50.094055  51.296397  52.399974  50.933018  51.359742   \n",
       "20         40.716325  52.157049  53.197691  54.920935  53.644087  54.364417   \n",
       "\n",
       "Drug        Propriva   Ramicane   Stelasyn  Zoniferol  \n",
       "Timepoint                                              \n",
       "0          45.000000  45.000000  45.000000  45.000000  \n",
       "5          47.248967  43.944859  47.527452  46.851818  \n",
       "10         49.101541  42.531957  49.463844  48.689881  \n",
       "15         51.067318  41.495061  51.529409  50.779059  \n",
       "20         53.346737  40.238325  54.067395  53.170334  "
      ]
     },
     "execution_count": 147,
     "metadata": {},
     "output_type": "execute_result"
    }
   ],
   "source": [
    "# Minor Data Munging to Re-Format the Data Frames\n",
    "df_tomour_plot = df_tumour.unstack(0)\n",
    "# Preview that Reformatting worked\n",
    "df_tomour_plot = df_tomour_plot[\"Tumor Volume (mm3)\"]\n",
    "df_tomour_plot.head()"
   ]
  },
  {
   "cell_type": "code",
   "execution_count": 148,
   "metadata": {},
   "outputs": [
    {
     "data": {
      "image/png": "[encoded data removed]",
      "text/plain": [
       "<Figure size 720x504 with 1 Axes>"
      ]
     },
     "metadata": {
      "needs_background": "light"
     },
     "output_type": "display_data"
    }
   ],
   "source": [
    "# Generate the Plot (with Error Bars)\n",
    "\n",
    "# Set the x axis from 0 to 45 in increments of 5\n",
    "x_axis = np.arange(0, 50, 5)\n",
    "x_limit = 45\n",
    "plt.figure(figsize=(10,7))\n",
    "\n",
    "# calculate the tumor volume for each drug specified and plot the corresponding values\n",
    "error = df_tumour_response_error[\"Tumor Volume (mm3)\"][\"Capomulin\"]\n",
    "Capomulin = plt.errorbar(x_axis, df_tomour_plot[\"Capomulin\"], yerr=error, fmt=\"o\", ls=\"dashed\", linewidth=1, \n",
    "                         alpha=1, capsize=3,color =\"red\")\n",
    "\n",
    "error = df_tumour_response_error[\"Tumor Volume (mm3)\"][\"Infubinol\"]\n",
    "Infubinol = plt.errorbar(x_axis, df_tomour_plot[\"Infubinol\"], yerr=error, fmt=\"^\", ls=\"dashed\", linewidth=1, \n",
    "                         alpha=1, capsize=3,color =\"blue\")\n",
    "\n",
    "error = df_tumour_response_error[\"Tumor Volume (mm3)\"][\"Ketapril\"]\n",
    "Ketapril = plt.errorbar(x_axis, df_tomour_plot[\"Ketapril\"], yerr=error, fmt=\"s\", ls=\"dashed\", linewidth=1, \n",
    "                         alpha=1, capsize=3,color =\"green\")\n",
    "\n",
    "error = df_tumour_response_error[\"Tumor Volume (mm3)\"][\"Placebo\"]\n",
    "Placebo = plt.errorbar(x_axis, df_tomour_plot[\"Placebo\"], yerr=error, fmt=\"D\", ls=\"dashed\", linewidth=1, \n",
    "                         alpha=1, capsize=3,color =\"black\")\n",
    "\n",
    "# Set the plot title and axes titles\n",
    "plt.title(\"Tumor Response to Treatment\")\n",
    "plt.xlabel(\"Time (Days)\")\n",
    "plt.ylabel(\"Tumor Volume (mm3)\")\n",
    "plt.grid(linestyle=\"dashed\")\n",
    "plt.ylim(20, 80)\n",
    "plt.xlim(0, 45)\n",
    "\n",
    "plt.legend((Capomulin, Infubinol, Ketapril, Placebo), (\"Capomulin\", \"Infubinol\", \"Ketapril\", \"Placebo\"), fontsize=12)\n",
    "\n",
    "# Save the Figure\n",
    "plt.savefig(\"treatment.png\")\n",
    "\n",
    "# Show the Figure\n",
    "plt.show()"
   ]
  },
  {
   "cell_type": "markdown",
   "metadata": {},
   "source": [
    "![Tumor Response to Treatment](../Images/treatment.png)"
   ]
  },
  {
   "cell_type": "markdown",
   "metadata": {},
   "source": [
    "## Metastatic Response to Treatment"
   ]
  },
  {
   "cell_type": "code",
   "execution_count": 149,
   "metadata": {},
   "outputs": [
    {
     "data": {
      "text/plain": [
       "Drug       Timepoint\n",
       "Capomulin  0            0.000000\n",
       "           5            0.160000\n",
       "           10           0.320000\n",
       "           15           0.375000\n",
       "           20           0.652174\n",
       "Name: mean, dtype: float64"
      ]
     },
     "execution_count": 149,
     "metadata": {},
     "output_type": "execute_result"
    }
   ],
   "source": [
    "# Store the Mean Met. Site Data Grouped by Drug and Timepoint \n",
    "metastatsic_response_group = df_merged.groupby([\"Drug\", \"Timepoint\"])\n",
    "\n",
    "# Convert to DataFrame\n",
    "df_mean_sem_meta = metastatsic_response_group.agg({\"Metastatic Sites\" :[\"mean\", \"sem\"]})\n",
    "\n",
    "# Preview DataFrame\n",
    "df_meta = df_mean_sem_meta[\"Metastatic Sites\"][\"mean\"]\n",
    "df_meta.head()\n"
   ]
  },
  {
   "cell_type": "code",
   "execution_count": 150,
   "metadata": {},
   "outputs": [
    {
     "data": {
      "text/plain": [
       "Drug       Timepoint\n",
       "Capomulin  0            0.000000\n",
       "           5            0.074833\n",
       "           10           0.125433\n",
       "           15           0.132048\n",
       "           20           0.161621\n",
       "Name: sem, dtype: float64"
      ]
     },
     "execution_count": 150,
     "metadata": {},
     "output_type": "execute_result"
    }
   ],
   "source": [
    "# Store the Standard Error associated with Met. Sites Grouped by Drug and Timepoint \n",
    "# Convert to DataFrame\n",
    "df_meta_error = df_mean_sem_meta [\"Metastatic Sites\"][\"sem\"]\n",
    "# Preview DataFrame\n",
    "df_meta_error.head()"
   ]
  },
  {
   "cell_type": "code",
   "execution_count": 151,
   "metadata": {},
   "outputs": [
    {
     "data": {
      "text/html": [
       "<div>\n",
       "<style scoped>\n",
       "    .dataframe tbody tr th:only-of-type {\n",
       "        vertical-align: middle;\n",
       "    }\n",
       "\n",
       "    .dataframe tbody tr th {\n",
       "        vertical-align: top;\n",
       "    }\n",
       "\n",
       "    .dataframe thead th {\n",
       "        text-align: right;\n",
       "    }\n",
       "</style>\n",
       "<table border=\"1\" class=\"dataframe\">\n",
       "  <thead>\n",
       "    <tr style=\"text-align: right;\">\n",
       "      <th>Drug</th>\n",
       "      <th>Capomulin</th>\n",
       "      <th>Ceftamin</th>\n",
       "      <th>Infubinol</th>\n",
       "      <th>Ketapril</th>\n",
       "      <th>Naftisol</th>\n",
       "      <th>Placebo</th>\n",
       "      <th>Propriva</th>\n",
       "      <th>Ramicane</th>\n",
       "      <th>Stelasyn</th>\n",
       "      <th>Zoniferol</th>\n",
       "    </tr>\n",
       "    <tr>\n",
       "      <th>Timepoint</th>\n",
       "      <th></th>\n",
       "      <th></th>\n",
       "      <th></th>\n",
       "      <th></th>\n",
       "      <th></th>\n",
       "      <th></th>\n",
       "      <th></th>\n",
       "      <th></th>\n",
       "      <th></th>\n",
       "      <th></th>\n",
       "    </tr>\n",
       "  </thead>\n",
       "  <tbody>\n",
       "    <tr>\n",
       "      <th>0</th>\n",
       "      <td>0.000000</td>\n",
       "      <td>0.000000</td>\n",
       "      <td>0.000000</td>\n",
       "      <td>0.000000</td>\n",
       "      <td>0.000000</td>\n",
       "      <td>0.000000</td>\n",
       "      <td>0.000000</td>\n",
       "      <td>0.000000</td>\n",
       "      <td>0.000000</td>\n",
       "      <td>0.000000</td>\n",
       "    </tr>\n",
       "    <tr>\n",
       "      <th>5</th>\n",
       "      <td>0.160000</td>\n",
       "      <td>0.380952</td>\n",
       "      <td>0.280000</td>\n",
       "      <td>0.304348</td>\n",
       "      <td>0.260870</td>\n",
       "      <td>0.375000</td>\n",
       "      <td>0.320000</td>\n",
       "      <td>0.120000</td>\n",
       "      <td>0.240000</td>\n",
       "      <td>0.166667</td>\n",
       "    </tr>\n",
       "    <tr>\n",
       "      <th>10</th>\n",
       "      <td>0.320000</td>\n",
       "      <td>0.600000</td>\n",
       "      <td>0.666667</td>\n",
       "      <td>0.590909</td>\n",
       "      <td>0.523810</td>\n",
       "      <td>0.833333</td>\n",
       "      <td>0.565217</td>\n",
       "      <td>0.250000</td>\n",
       "      <td>0.478261</td>\n",
       "      <td>0.500000</td>\n",
       "    </tr>\n",
       "    <tr>\n",
       "      <th>15</th>\n",
       "      <td>0.375000</td>\n",
       "      <td>0.789474</td>\n",
       "      <td>0.904762</td>\n",
       "      <td>0.842105</td>\n",
       "      <td>0.857143</td>\n",
       "      <td>1.250000</td>\n",
       "      <td>0.764706</td>\n",
       "      <td>0.333333</td>\n",
       "      <td>0.782609</td>\n",
       "      <td>0.809524</td>\n",
       "    </tr>\n",
       "    <tr>\n",
       "      <th>20</th>\n",
       "      <td>0.652174</td>\n",
       "      <td>1.111111</td>\n",
       "      <td>1.050000</td>\n",
       "      <td>1.210526</td>\n",
       "      <td>1.150000</td>\n",
       "      <td>1.526316</td>\n",
       "      <td>1.000000</td>\n",
       "      <td>0.347826</td>\n",
       "      <td>0.952381</td>\n",
       "      <td>1.294118</td>\n",
       "    </tr>\n",
       "  </tbody>\n",
       "</table>\n",
       "</div>"
      ],
      "text/plain": [
       "Drug       Capomulin  Ceftamin  Infubinol  Ketapril  Naftisol   Placebo  \\\n",
       "Timepoint                                                                 \n",
       "0           0.000000  0.000000   0.000000  0.000000  0.000000  0.000000   \n",
       "5           0.160000  0.380952   0.280000  0.304348  0.260870  0.375000   \n",
       "10          0.320000  0.600000   0.666667  0.590909  0.523810  0.833333   \n",
       "15          0.375000  0.789474   0.904762  0.842105  0.857143  1.250000   \n",
       "20          0.652174  1.111111   1.050000  1.210526  1.150000  1.526316   \n",
       "\n",
       "Drug       Propriva  Ramicane  Stelasyn  Zoniferol  \n",
       "Timepoint                                           \n",
       "0          0.000000  0.000000  0.000000   0.000000  \n",
       "5          0.320000  0.120000  0.240000   0.166667  \n",
       "10         0.565217  0.250000  0.478261   0.500000  \n",
       "15         0.764706  0.333333  0.782609   0.809524  \n",
       "20         1.000000  0.347826  0.952381   1.294118  "
      ]
     },
     "execution_count": 151,
     "metadata": {},
     "output_type": "execute_result"
    }
   ],
   "source": [
    "# Minor Data Munging to Re-Format the Data Frames\n",
    "df_meta_plot = df_meta.unstack(0)\n",
    "\n",
    "# Preview that Reformatting worked\n",
    "df_meta_plot.head()"
   ]
  },
  {
   "cell_type": "code",
   "execution_count": 152,
   "metadata": {},
   "outputs": [],
   "source": [
    "# Create list of the meta site mean for each of the four drugs\n",
    "cap_meta_mean_list = df_mean_sem_meta.loc['Capomulin'].loc[:, 'Metastatic Sites'].loc[:,'mean'].tolist()\n",
    "infu_meta_mean_list = df_mean_sem_meta.loc['Infubinol'].loc[:, 'Metastatic Sites'].loc[:,'mean'].tolist()\n",
    "keta_meta_mean_list = df_mean_sem_meta.loc['Ketapril'].loc[:, 'Metastatic Sites'].loc[:,'mean'].tolist()\n",
    "plac_meta_mean_list = df_mean_sem_meta.loc['Placebo'].loc[:, 'Metastatic Sites'].loc[:,'mean'].tolist()"
   ]
  },
  {
   "cell_type": "code",
   "execution_count": 153,
   "metadata": {},
   "outputs": [],
   "source": [
    "# Create list of the metastatic site sems(errors) for each of the four drugs \n",
    "cap_error= df_mean_sem_meta.loc['Capomulin'].loc[:, 'Metastatic Sites'].loc[:,'sem'].tolist()\n",
    "infu_error = df_mean_sem_meta.loc['Infubinol'].loc[:, 'Metastatic Sites'].loc[:,'sem'].tolist()\n",
    "keta_error = df_mean_sem_meta.loc['Ketapril'].loc[:, 'Metastatic Sites'].loc[:,'sem'].tolist()\n",
    "plac_error = df_mean_sem_meta.loc['Placebo'].loc[:, 'Metastatic Sites'].loc[:,'sem'].tolist()"
   ]
  },
  {
   "cell_type": "code",
   "execution_count": 154,
   "metadata": {},
   "outputs": [
    {
     "data": {
      "image/png": "[encoded data removed]",
      "text/plain": [
       "<Figure size 720x504 with 1 Axes>"
      ]
     },
     "metadata": {
      "needs_background": "light"
     },
     "output_type": "display_data"
    }
   ],
   "source": [
    "# Generate the Plot (with Error Bars)\n",
    "\n",
    "plt.figure(figsize=(10,7))\n",
    "\n",
    "# calculate the metasite mean value for each drug specified and plot the corresponding values\n",
    "cap2 = plt.errorbar(x_axis, cap_meta_mean_list, yerr=cap_error, fmt=\"o\", ls=\"dashed\", linewidth=1, alpha=1, capsize=3, color = \"red\")\n",
    "infu2 = plt.errorbar(x_axis, infu_meta_mean_list, yerr=infu_error, fmt=\"^\", ls=\"dashed\", linewidth=1, alpha=1, capsize=3, color = \"blue\")\n",
    "keta2 = plt.errorbar(x_axis, keta_meta_mean_list, yerr=keta_error, fmt=\"s\", ls=\"dashed\", linewidth=1, alpha=1, capsize=3, color = \"green\")\n",
    "plac2 = plt.errorbar(x_axis, plac_meta_mean_list, yerr=plac_error, fmt=\"D\", ls=\"dashed\", linewidth=1, alpha=1, capsize=3, color = \"black\")\n",
    "\n",
    "plt.ylim(0, 4)\n",
    "plt.xlim(0, 45)\n",
    "\n",
    "# Set the plot title and axes titles\n",
    "plt.title(\"Metastatic Spread During Treatment\", fontsize=20)\n",
    "plt.xlabel(\"Treatment Duration (Days)\", fontsize=14)\n",
    "plt.ylabel(\"Metastatic Sites\", fontsize=14)\n",
    "\n",
    "plt.grid(linestyle=\"dashed\")\n",
    "plt.legend((cap2, infu2, keta2, plac2), (\"Capomulin\", \"Infubinol\", \"Ketapril\", \"Placebo\"), fontsize=12)\n",
    "\n",
    "# Save the Figure\n",
    "plt.savefig(\"spread.png\")\n",
    "        \n",
    "# Show the resulting scatter plot\n",
    "plt.show()"
   ]
  },
  {
   "cell_type": "markdown",
   "metadata": {},
   "source": [
    "![Metastatic Spread During Treatment](../Images/spread.png)"
   ]
  },
  {
   "cell_type": "markdown",
   "metadata": {},
   "source": [
    "## Survival Rates"
   ]
  },
  {
   "cell_type": "code",
   "execution_count": 155,
   "metadata": {},
   "outputs": [
    {
     "data": {
      "text/html": [
       "<div>\n",
       "<style scoped>\n",
       "    .dataframe tbody tr th:only-of-type {\n",
       "        vertical-align: middle;\n",
       "    }\n",
       "\n",
       "    .dataframe tbody tr th {\n",
       "        vertical-align: top;\n",
       "    }\n",
       "\n",
       "    .dataframe thead th {\n",
       "        text-align: right;\n",
       "    }\n",
       "</style>\n",
       "<table border=\"1\" class=\"dataframe\">\n",
       "  <thead>\n",
       "    <tr style=\"text-align: right;\">\n",
       "      <th></th>\n",
       "      <th></th>\n",
       "      <th>Mouse ID</th>\n",
       "    </tr>\n",
       "    <tr>\n",
       "      <th>Drug</th>\n",
       "      <th>Timepoint</th>\n",
       "      <th></th>\n",
       "    </tr>\n",
       "  </thead>\n",
       "  <tbody>\n",
       "    <tr>\n",
       "      <th rowspan=\"5\" valign=\"top\">Capomulin</th>\n",
       "      <th>0</th>\n",
       "      <td>25</td>\n",
       "    </tr>\n",
       "    <tr>\n",
       "      <th>5</th>\n",
       "      <td>25</td>\n",
       "    </tr>\n",
       "    <tr>\n",
       "      <th>10</th>\n",
       "      <td>25</td>\n",
       "    </tr>\n",
       "    <tr>\n",
       "      <th>15</th>\n",
       "      <td>24</td>\n",
       "    </tr>\n",
       "    <tr>\n",
       "      <th>20</th>\n",
       "      <td>23</td>\n",
       "    </tr>\n",
       "  </tbody>\n",
       "</table>\n",
       "</div>"
      ],
      "text/plain": [
       "                     Mouse ID\n",
       "Drug      Timepoint          \n",
       "Capomulin 0                25\n",
       "          5                25\n",
       "          10               25\n",
       "          15               24\n",
       "          20               23"
      ]
     },
     "execution_count": 155,
     "metadata": {},
     "output_type": "execute_result"
    }
   ],
   "source": [
    "# Store the Count of Mice Grouped by Drug and Timepoint (W can pass any metric)\n",
    "mice_count_group = df_merged.groupby([\"Drug\", \"Timepoint\"])\n",
    "mice_count = mice_count_group[\"Mouse ID\"].nunique()\n",
    "\n",
    "# Convert to DataFrame\n",
    "df_mice = mice_count.to_frame()\n",
    "\n",
    "# Preview DataFrame\n",
    "df_mice.head()"
   ]
  },
  {
   "cell_type": "code",
   "execution_count": 156,
   "metadata": {},
   "outputs": [
    {
     "data": {
      "text/html": [
       "<div>\n",
       "<style scoped>\n",
       "    .dataframe tbody tr th:only-of-type {\n",
       "        vertical-align: middle;\n",
       "    }\n",
       "\n",
       "    .dataframe tbody tr th {\n",
       "        vertical-align: top;\n",
       "    }\n",
       "\n",
       "    .dataframe thead th {\n",
       "        text-align: right;\n",
       "    }\n",
       "</style>\n",
       "<table border=\"1\" class=\"dataframe\">\n",
       "  <thead>\n",
       "    <tr style=\"text-align: right;\">\n",
       "      <th>Drug</th>\n",
       "      <th>Capomulin</th>\n",
       "      <th>Ceftamin</th>\n",
       "      <th>Infubinol</th>\n",
       "      <th>Ketapril</th>\n",
       "      <th>Naftisol</th>\n",
       "      <th>Placebo</th>\n",
       "      <th>Propriva</th>\n",
       "      <th>Ramicane</th>\n",
       "      <th>Stelasyn</th>\n",
       "      <th>Zoniferol</th>\n",
       "    </tr>\n",
       "    <tr>\n",
       "      <th>Timepoint</th>\n",
       "      <th></th>\n",
       "      <th></th>\n",
       "      <th></th>\n",
       "      <th></th>\n",
       "      <th></th>\n",
       "      <th></th>\n",
       "      <th></th>\n",
       "      <th></th>\n",
       "      <th></th>\n",
       "      <th></th>\n",
       "    </tr>\n",
       "  </thead>\n",
       "  <tbody>\n",
       "    <tr>\n",
       "      <th>0</th>\n",
       "      <td>25</td>\n",
       "      <td>25</td>\n",
       "      <td>25</td>\n",
       "      <td>25</td>\n",
       "      <td>25</td>\n",
       "      <td>25</td>\n",
       "      <td>25</td>\n",
       "      <td>25</td>\n",
       "      <td>25</td>\n",
       "      <td>25</td>\n",
       "    </tr>\n",
       "    <tr>\n",
       "      <th>5</th>\n",
       "      <td>25</td>\n",
       "      <td>21</td>\n",
       "      <td>25</td>\n",
       "      <td>23</td>\n",
       "      <td>23</td>\n",
       "      <td>24</td>\n",
       "      <td>24</td>\n",
       "      <td>25</td>\n",
       "      <td>24</td>\n",
       "      <td>24</td>\n",
       "    </tr>\n",
       "    <tr>\n",
       "      <th>10</th>\n",
       "      <td>25</td>\n",
       "      <td>20</td>\n",
       "      <td>21</td>\n",
       "      <td>22</td>\n",
       "      <td>21</td>\n",
       "      <td>24</td>\n",
       "      <td>22</td>\n",
       "      <td>24</td>\n",
       "      <td>22</td>\n",
       "      <td>22</td>\n",
       "    </tr>\n",
       "    <tr>\n",
       "      <th>15</th>\n",
       "      <td>24</td>\n",
       "      <td>19</td>\n",
       "      <td>21</td>\n",
       "      <td>19</td>\n",
       "      <td>21</td>\n",
       "      <td>20</td>\n",
       "      <td>16</td>\n",
       "      <td>24</td>\n",
       "      <td>22</td>\n",
       "      <td>21</td>\n",
       "    </tr>\n",
       "    <tr>\n",
       "      <th>20</th>\n",
       "      <td>23</td>\n",
       "      <td>18</td>\n",
       "      <td>20</td>\n",
       "      <td>19</td>\n",
       "      <td>20</td>\n",
       "      <td>19</td>\n",
       "      <td>16</td>\n",
       "      <td>23</td>\n",
       "      <td>20</td>\n",
       "      <td>17</td>\n",
       "    </tr>\n",
       "  </tbody>\n",
       "</table>\n",
       "</div>"
      ],
      "text/plain": [
       "Drug       Capomulin  Ceftamin  Infubinol  Ketapril  Naftisol  Placebo  \\\n",
       "Timepoint                                                                \n",
       "0                 25        25         25        25        25       25   \n",
       "5                 25        21         25        23        23       24   \n",
       "10                25        20         21        22        21       24   \n",
       "15                24        19         21        19        21       20   \n",
       "20                23        18         20        19        20       19   \n",
       "\n",
       "Drug       Propriva  Ramicane  Stelasyn  Zoniferol  \n",
       "Timepoint                                           \n",
       "0                25        25        25         25  \n",
       "5                24        25        24         24  \n",
       "10               22        24        22         22  \n",
       "15               16        24        22         21  \n",
       "20               16        23        20         17  "
      ]
     },
     "execution_count": 156,
     "metadata": {},
     "output_type": "execute_result"
    }
   ],
   "source": [
    "# Minor Data Munging to Re-Format the Data Frames\n",
    "mice_plot = df_mice.unstack(0)\n",
    "\n",
    "# Preview the Data Frame\n",
    "df_mice_plot = mice_plot[\"Mouse ID\"] \n",
    "df_mice_plot.head()"
   ]
  },
  {
   "cell_type": "code",
   "execution_count": 157,
   "metadata": {},
   "outputs": [
    {
     "data": {
      "text/plain": [
       "Timepoint\n",
       "0     25\n",
       "5     25\n",
       "10    25\n",
       "15    24\n",
       "20    23\n",
       "25    22\n",
       "30    22\n",
       "35    22\n",
       "40    21\n",
       "45    21\n",
       "Name: Capomulin, dtype: int64"
      ]
     },
     "execution_count": 157,
     "metadata": {},
     "output_type": "execute_result"
    }
   ],
   "source": [
    "df_mice_plot[\"Capomulin\"]"
   ]
  },
  {
   "cell_type": "code",
   "execution_count": 158,
   "metadata": {},
   "outputs": [],
   "source": [
    "x = (df_mice_plot[\"Capomulin\"])/(df_mice_plot[\"Capomulin\"][0])*100"
   ]
  },
  {
   "cell_type": "code",
   "execution_count": 159,
   "metadata": {},
   "outputs": [
    {
     "data": {
      "image/png": "[encoded data removed]",
      "text/plain": [
       "<Figure size 720x504 with 1 Axes>"
      ]
     },
     "metadata": {
      "needs_background": "light"
     },
     "output_type": "display_data"
    }
   ],
   "source": [
    "# Generate the Plot (Accounting for percentages)\n",
    "plt.figure(figsize = (10,7))\n",
    "\n",
    "cap3 = plt.errorbar(x_axis, (df_mice_plot[\"Capomulin\"])/(df_mice_plot[\"Capomulin\"][0])*100, fmt=\"o\", ls=\"dashed\", linewidth=1, alpha=1, capsize=3,color = \"red\")\n",
    "infu3 = plt.errorbar(x_axis, (df_mice_plot[\"Infubinol\"])/(df_mice_plot[\"Infubinol\"][0])*100, fmt=\"^\", ls=\"dashed\", linewidth=1, alpha=1, capsize=3,color = \"blue\")\n",
    "keta3 = plt.errorbar(x_axis, (df_mice_plot[\"Ketapril\"]/(df_mice_plot[\"Ketapril\"][0])*100),  fmt=\"s\", ls=\"dashed\", linewidth=1, alpha=1, capsize=3,color =\"green\")\n",
    "plac3 = plt.errorbar(x_axis, (df_mice_plot[\"Placebo\"]/(df_mice_plot['Placebo'][0])*100),  fmt=\"D\", ls=\"dashed\", linewidth=1, alpha=1, capsize=3,color =\"black\")\n",
    "\n",
    "# Set the plot title and axes titles\n",
    "\n",
    "plt.title(\"Survival During Treatment\", fontsize=20)\n",
    "plt.xlabel(\"Time (Days)\", fontsize=14)\n",
    "plt.ylabel(\"Survival Rate (%)\", fontsize=14)\n",
    "plt.ylim(40, 100)\n",
    "plt.xlim(0, 45)\n",
    "\n",
    "plt.grid(linestyle=\"dashed\")\n",
    "plt.legend((cap3, infu3, keta3, plac3), (\"Capomulin\", \"Infubinol\", \"Ketapril\", \"Placebo\"), fontsize=12)\n",
    "\n",
    "# Save the Figure\n",
    "plt.savefig(\"survival.png\")\n",
    "\n",
    "\n",
    "# Show the Figure\n",
    "plt.show()"
   ]
  },
  {
   "cell_type": "markdown",
   "metadata": {},
   "source": [
    "![Metastatic Spread During Treatment](../Images/survival.png)"
   ]
  },
  {
   "cell_type": "markdown",
   "metadata": {},
   "source": [
    "## Summary Bar Graph"
   ]
  },
  {
   "cell_type": "code",
   "execution_count": 160,
   "metadata": {},
   "outputs": [],
   "source": [
    "# Calculate the percent changes for each drug\n",
    "\n",
    "## Calculating percent change in tumour volume for Capomulin\n",
    "cap_list = df_tomour_plot[\"Capomulin\"].to_list()\n",
    "perc_change_cap = ((cap_list[-1] - cap_list[0])/cap_list[0])*100\n",
    "\n",
    "## Calculating percent change in tumour volume for Infubinol\n",
    "infu_list = df_tomour_plot[\"Infubinol\"].to_list()\n",
    "perc_change_infu = ((infu_list[-1] - infu_list[0])/infu_list[0])*100\n",
    "\n",
    "## Calculating percent change for Ketapril\n",
    "keta_list = df_tomour_plot[\"Ketapril\"].to_list()\n",
    "perc_change_keta = ((keta_list[-1] - keta_list[0])/keta_list[0])*100\n",
    "\n",
    "## Calculating percent change for Placebo\n",
    "plac_list = df_tomour_plot[\"Placebo\"].to_list()\n",
    "perc_change_plac = ((plac_list[-1] - plac_list[0])/plac_list[0])*100\n"
   ]
  },
  {
   "cell_type": "code",
   "execution_count": 161,
   "metadata": {},
   "outputs": [
    {
     "data": {
      "text/plain": [
       "-19.475302667894155"
      ]
     },
     "execution_count": 161,
     "metadata": {},
     "output_type": "execute_result"
    }
   ],
   "source": [
    "# Display Percentage change in Capomulin\n",
    "perc_change_cap"
   ]
  },
  {
   "cell_type": "code",
   "execution_count": 162,
   "metadata": {},
   "outputs": [
    {
     "data": {
      "text/plain": [
       "46.12347172785184"
      ]
     },
     "execution_count": 162,
     "metadata": {},
     "output_type": "execute_result"
    }
   ],
   "source": [
    "# Display Percentage change in Infubinol\n",
    "perc_change_infu"
   ]
  },
  {
   "cell_type": "code",
   "execution_count": 163,
   "metadata": {},
   "outputs": [
    {
     "data": {
      "text/plain": [
       "57.02879468660604"
      ]
     },
     "execution_count": 163,
     "metadata": {},
     "output_type": "execute_result"
    }
   ],
   "source": [
    "# Display Percentage change in Ketapril\n",
    "perc_change_keta"
   ]
  },
  {
   "cell_type": "code",
   "execution_count": 164,
   "metadata": {},
   "outputs": [
    {
     "data": {
      "text/plain": [
       "51.29796048315153"
      ]
     },
     "execution_count": 164,
     "metadata": {},
     "output_type": "execute_result"
    }
   ],
   "source": [
    "# Display Percentage change in Placebo\n",
    "perc_change_plac"
   ]
  },
  {
   "cell_type": "code",
   "execution_count": 165,
   "metadata": {},
   "outputs": [
    {
     "data": {
      "image/png": "[encoded data removed]",
      "text/plain": [
       "<Figure size 432x288 with 1 Axes>"
      ]
     },
     "metadata": {
      "needs_background": "light"
     },
     "output_type": "display_data"
    }
   ],
   "source": [
    "# Store all Relevant Percent Changes into a Tuple\n",
    "y = [perc_change_cap, perc_change_infu, perc_change_keta, perc_change_plac]\n",
    "\n",
    "# Set the x axis from 0 to 45 in increments of 5\n",
    "x_axis = np.arange(len(y))\n",
    "\n",
    "# Splice the data between passing and failing drugs\n",
    "# Set the colors of the bars depending on if pos or neg\n",
    "# -ve % are green and +ve % are red\n",
    "colors = []\n",
    "for item in y:\n",
    "    if item < 0:\n",
    "        colors.append('red')\n",
    "    else:\n",
    "        colors.append('green')\n",
    "\n",
    "\n",
    "# Set up the bar graph \n",
    "tumor_growth_bar = plt.bar(x_axis, y, color=colors, alpha=1.0, edgecolor='black', linewidth=0.7)\n",
    "\n",
    "# Set the plot title and axes titles\n",
    "plt.title(\"Tumor Change Over 45 Day Treatment\")\n",
    "plt.ylabel(\"% Tumor Volume Change\")\n",
    "\n",
    "# Add labels, tick marks, etc. \n",
    "tick_locations = [value for value in x_axis]\n",
    "plt.xticks(tick_locations, [\"Capomulin\", \"Infubinol\", \"Ketapril\", \"Placebo\"])\n",
    "\n",
    "# Set the limit of the x and y axes. lim(start, end)\n",
    "plt.xlim(-1, len(x_axis))\n",
    "plt.ylim(min(y)-2, max(y)+2)\n",
    "\n",
    "# Plot horizontal line at y=0\n",
    "plt.hlines(0, -1, len(x_axis), alpha=1.0, linewidth=0.5)\n",
    "\n",
    "# Add gridlines\n",
    "plt.grid('on', which='major', axis='y', linestyle='dotted', linewidth=0.5)\n",
    "\n",
    "# Use functions to label the percentages of changes\n",
    "# Call functions to implement the function calls\n",
    "\n",
    "def autolabel(rects):\n",
    "    for i,rect in enumerate(rects):\n",
    "        height = int(y[i])\n",
    "        if height >= 0:\n",
    "            plt.text(rect.get_x()+rect.get_width()/2., 2, '%s%%'% (y[i]),\n",
    "                ha='center', va='bottom', color='white', weight='bold')\n",
    "        else:\n",
    "            plt.text(rect.get_x()+rect.get_width()/2., -2, '%s%%'% (y[i]),\n",
    "                ha='center', va='top', color='white', weight='bold')          \n",
    "\n",
    "autolabel(tumor_growth_bar)\n",
    "\n",
    "# Save the Figure\n",
    "plt.savefig(\"change.png\")\n",
    "\n",
    "# Show the Figure\n",
    "plt.show()"
   ]
  },
  {
   "cell_type": "markdown",
   "metadata": {},
   "source": [
    "![Metastatic Spread During Treatment](../Images/change.png)"
   ]
  },
  {
   "cell_type": "code",
   "execution_count": null,
   "metadata": {},
   "outputs": [],
   "source": []
  },
  {
   "cell_type": "code",
   "execution_count": null,
   "metadata": {},
   "outputs": [],
   "source": []
  },
  {
   "cell_type": "code",
   "execution_count": null,
   "metadata": {},
   "outputs": [],
   "source": []
  }
 ],
 "metadata": {
  "anaconda-cloud": {},
  "kernelspec": {
   "display_name": "matplotlib_hw",
   "language": "python",
   "name": "matplotlib_hw"
  },
  "language_info": {
   "codemirror_mode": {
    "name": "ipython",
    "version": 3
   },
   "file_extension": ".py",
   "mimetype": "text/x-python",
   "name": "python",
   "nbconvert_exporter": "python",
   "pygments_lexer": "ipython3",
   "version": "3.7.4"
  }
 },
 "nbformat": 4,
 "nbformat_minor": 4
}
